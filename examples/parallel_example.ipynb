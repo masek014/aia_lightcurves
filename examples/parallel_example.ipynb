{
 "cells": [
  {
   "attachments": {},
   "cell_type": "markdown",
   "metadata": {},
   "source": [
    "# when I ran this I think the AIA download servers were down.\n",
    "# so... yeah your mileage may vary"
   ]
  },
  {
   "cell_type": "code",
   "execution_count": 1,
   "metadata": {},
   "outputs": [
    {
     "data": {
      "text/plain": [
       "<module 'aia_lightcurves.net.aia_requests' from '/Users/settwi/grad_school/glesener/fit-support-code/aia_lightcurves/net/aia_requests.py'>"
      ]
     },
     "execution_count": 1,
     "metadata": {},
     "output_type": "execute_result"
    }
   ],
   "source": [
    "from aia_lightcurves.net import aia_requests as air\n",
    "import importlib\n",
    "importlib.reload(air)"
   ]
  },
  {
   "attachments": {},
   "cell_type": "markdown",
   "metadata": {},
   "source": [
    "## If you run this when the servers are up, please increase the read_timeout to something like 10s or 20s"
   ]
  },
  {
   "cell_type": "code",
   "execution_count": 2,
   "metadata": {},
   "outputs": [
    {
     "name": "stdout",
     "output_type": "stream",
     "text": [
      "request test\n",
      "DEBUG:root:start find aia urls\n",
      "DEBUG:urllib3.connectionpool:Starting new HTTP connection (1): vso.nso.edu:80\n",
      "DEBUG:urllib3.connectionpool:http://vso.nso.edu:80 \"POST /cgi-bin/VSO/PROD/vsoi_wsdl.cgi HTTP/1.1\" 200 3275\n",
      "DEBUG:urllib3.connectionpool:Starting new HTTP connection (1): vso.nso.edu:80\n",
      "DEBUG:urllib3.connectionpool:http://vso.nso.edu:80 \"POST /cgi-bin/VSO/PROD/vsoi_wsdl.cgi HTTP/1.1\" 200 1747\n",
      "DEBUG:root:done find aia urls:\n",
      "['https://sdo7.nascom.nasa.gov/cgi-bin/drms_export.cgi?series=aia__lev1;compress=rice;record=171_1359601247-1359601247', 'https://sdo7.nascom.nasa.gov/cgi-bin/drms_export.cgi?series=aia__lev1;compress=rice;record=171_1359601259-1359601259', 'https://sdo7.nascom.nasa.gov/cgi-bin/drms_export.cgi?series=aia__lev1;compress=rice;record=171_1359601271-1359601271', 'https://sdo7.nascom.nasa.gov/cgi-bin/drms_export.cgi?series=aia__lev1;compress=rice;record=171_1359601283-1359601283', 'https://sdo7.nascom.nasa.gov/cgi-bin/drms_export.cgi?series=aia__lev1;compress=rice;record=171_1359601295-1359601295']\n",
      "DEBUG:root:start try downloads\n",
      "DEBUG:root:done try downloads\n",
      "INFO:root:5 / 5 downloads failed.\n",
      "INFO:root:retrying the following (attempt 1 / 5): \n",
      "https://sdo7.nascom.nasa.gov/cgi-bin/drms_export.cgi?series=aia__lev1;compress=rice;record=171_1359601247-1359601247\t\n",
      "https://sdo7.nascom.nasa.gov/cgi-bin/drms_export.cgi?series=aia__lev1;compress=rice;record=171_1359601259-1359601259\t\n",
      "https://sdo7.nascom.nasa.gov/cgi-bin/drms_export.cgi?series=aia__lev1;compress=rice;record=171_1359601271-1359601271\t\n",
      "https://sdo7.nascom.nasa.gov/cgi-bin/drms_export.cgi?series=aia__lev1;compress=rice;record=171_1359601283-1359601283\t\n",
      "https://sdo7.nascom.nasa.gov/cgi-bin/drms_export.cgi?series=aia__lev1;compress=rice;record=171_1359601295-1359601295\n",
      "DEBUG:root:start try downloads\n",
      "DEBUG:root:done try downloads\n",
      "INFO:root:5 / 5 downloads failed.\n",
      "INFO:root:retrying the following (attempt 2 / 5): \n",
      "https://sdo7.nascom.nasa.gov/cgi-bin/drms_export.cgi?series=aia__lev1;compress=rice;record=171_1359601247-1359601247\t\n",
      "https://sdo7.nascom.nasa.gov/cgi-bin/drms_export.cgi?series=aia__lev1;compress=rice;record=171_1359601259-1359601259\t\n",
      "https://sdo7.nascom.nasa.gov/cgi-bin/drms_export.cgi?series=aia__lev1;compress=rice;record=171_1359601271-1359601271\t\n",
      "https://sdo7.nascom.nasa.gov/cgi-bin/drms_export.cgi?series=aia__lev1;compress=rice;record=171_1359601283-1359601283\t\n",
      "https://sdo7.nascom.nasa.gov/cgi-bin/drms_export.cgi?series=aia__lev1;compress=rice;record=171_1359601295-1359601295\n",
      "DEBUG:root:start try downloads\n",
      "DEBUG:root:done try downloads\n",
      "INFO:root:5 / 5 downloads failed.\n",
      "INFO:root:retrying the following (attempt 3 / 5): \n",
      "https://sdo7.nascom.nasa.gov/cgi-bin/drms_export.cgi?series=aia__lev1;compress=rice;record=171_1359601247-1359601247\t\n",
      "https://sdo7.nascom.nasa.gov/cgi-bin/drms_export.cgi?series=aia__lev1;compress=rice;record=171_1359601259-1359601259\t\n",
      "https://sdo7.nascom.nasa.gov/cgi-bin/drms_export.cgi?series=aia__lev1;compress=rice;record=171_1359601271-1359601271\t\n",
      "https://sdo7.nascom.nasa.gov/cgi-bin/drms_export.cgi?series=aia__lev1;compress=rice;record=171_1359601283-1359601283\t\n",
      "https://sdo7.nascom.nasa.gov/cgi-bin/drms_export.cgi?series=aia__lev1;compress=rice;record=171_1359601295-1359601295\n",
      "DEBUG:root:start try downloads\n",
      "DEBUG:root:done try downloads\n",
      "INFO:root:5 / 5 downloads failed.\n",
      "INFO:root:retrying the following (attempt 4 / 5): \n",
      "https://sdo7.nascom.nasa.gov/cgi-bin/drms_export.cgi?series=aia__lev1;compress=rice;record=171_1359601247-1359601247\t\n",
      "https://sdo7.nascom.nasa.gov/cgi-bin/drms_export.cgi?series=aia__lev1;compress=rice;record=171_1359601259-1359601259\t\n",
      "https://sdo7.nascom.nasa.gov/cgi-bin/drms_export.cgi?series=aia__lev1;compress=rice;record=171_1359601271-1359601271\t\n",
      "https://sdo7.nascom.nasa.gov/cgi-bin/drms_export.cgi?series=aia__lev1;compress=rice;record=171_1359601283-1359601283\t\n",
      "https://sdo7.nascom.nasa.gov/cgi-bin/drms_export.cgi?series=aia__lev1;compress=rice;record=171_1359601295-1359601295\n",
      "DEBUG:root:start try downloads\n",
      "DEBUG:root:done try downloads\n",
      "INFO:root:5 / 5 downloads failed.\n",
      "INFO:root:retrying the following (attempt 5 / 5): \n",
      "https://sdo7.nascom.nasa.gov/cgi-bin/drms_export.cgi?series=aia__lev1;compress=rice;record=171_1359601247-1359601247\t\n",
      "https://sdo7.nascom.nasa.gov/cgi-bin/drms_export.cgi?series=aia__lev1;compress=rice;record=171_1359601259-1359601259\t\n",
      "https://sdo7.nascom.nasa.gov/cgi-bin/drms_export.cgi?series=aia__lev1;compress=rice;record=171_1359601271-1359601271\t\n",
      "https://sdo7.nascom.nasa.gov/cgi-bin/drms_export.cgi?series=aia__lev1;compress=rice;record=171_1359601283-1359601283\t\n",
      "https://sdo7.nascom.nasa.gov/cgi-bin/drms_export.cgi?series=aia__lev1;compress=rice;record=171_1359601295-1359601295\n",
      "Duration: 0:01:01.497880\n"
     ]
    },
    {
     "data": {
      "text/plain": [
       "[DownloadResult(file='🥲', success=False),\n",
       " DownloadResult(file='🥲', success=False),\n",
       " DownloadResult(file='🥲', success=False),\n",
       " DownloadResult(file='🥲', success=False),\n",
       " DownloadResult(file='🥲', success=False)]"
      ]
     },
     "execution_count": 2,
     "metadata": {},
     "output_type": "execute_result"
    }
   ],
   "source": [
    "air.read_timeout = 1\n",
    "air.timed_test()"
   ]
  }
 ],
 "metadata": {
  "kernelspec": {
   "display_name": "Python 3",
   "language": "python",
   "name": "python3"
  },
  "language_info": {
   "codemirror_mode": {
    "name": "ipython",
    "version": 3
   },
   "file_extension": ".py",
   "mimetype": "text/x-python",
   "name": "python",
   "nbconvert_exporter": "python",
   "pygments_lexer": "ipython3",
   "version": "3.11.0"
  },
  "orig_nbformat": 4,
  "vscode": {
   "interpreter": {
    "hash": "937ddabde3f33fb767bd1440b1af10efa3f80b8967638372061e842d1d9867fc"
   }
  }
 },
 "nbformat": 4,
 "nbformat_minor": 2
}
