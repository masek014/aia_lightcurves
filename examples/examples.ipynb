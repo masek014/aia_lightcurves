{
 "cells": [
  {
   "attachments": {},
   "cell_type": "markdown",
   "metadata": {},
   "source": [
    "## This notebook showcases some examples of processed AIA data using the built tools."
   ]
  },
  {
   "cell_type": "code",
   "execution_count": null,
   "metadata": {},
   "outputs": [],
   "source": [
    "import plotting"
   ]
  },
  {
   "cell_type": "markdown",
   "metadata": {},
   "source": [
    "---"
   ]
  },
  {
   "cell_type": "markdown",
   "metadata": {},
   "source": [
    "## Test observation"
   ]
  },
  {
   "cell_type": "code",
   "execution_count": null,
   "metadata": {},
   "outputs": [],
   "source": [
    "import test\n",
    "\n",
    "d = test.test_observation()"
   ]
  },
  {
   "cell_type": "markdown",
   "metadata": {},
   "source": [
    "---"
   ]
  },
  {
   "cell_type": "markdown",
   "metadata": {},
   "source": [
    "## 2019-04-03"
   ]
  },
  {
   "cell_type": "markdown",
   "metadata": {},
   "source": [
    "### Region 1"
   ]
  },
  {
   "cell_type": "code",
   "execution_count": null,
   "metadata": {},
   "outputs": [],
   "source": [
    "# Corresponds to periodicity region 2.\n",
    "obs_20190403_reg1 = {\n",
    "        'start_time': '2019-04-03T17:40:00.0', # The observation start time\n",
    "        'end_time': '2019-04-03T17:55:00.0',   # The observation end time\n",
    "        'map_time': '2019-04-03T18:00:33.0',   # The time used for plotting the maps\n",
    "        'wavelengths': [171],                  # The wavelengths to examine\n",
    "        'center': (-220, 330),                 # The center of the region of interest (arcseconds)\n",
    "        'radius': 50,                          # The radius of the region of interest (arcseconds)\n",
    "        'N': 21,                               # The boxcar width\n",
    "        'name': 'reg1'                         # The region name to delineate files\n",
    "    }\n",
    "\n",
    "d = plotting.process_observation(obs_20190403_reg1)"
   ]
  },
  {
   "cell_type": "markdown",
   "metadata": {},
   "source": [
    "### Region 2"
   ]
  },
  {
   "cell_type": "code",
   "execution_count": null,
   "metadata": {},
   "outputs": [],
   "source": [
    "obs_20190403_reg2 = {\n",
    "        'start_time': '2019-04-03T17:40:00.0',\n",
    "        'end_time': '2019-04-03T17:55:00.0',\n",
    "        'map_time': '2019-04-03T18:00:33.0',\n",
    "        'wavelengths': [211],\n",
    "        'center': (-30, 330),\n",
    "        'radius': 50,\n",
    "        'N': 21,\n",
    "        'name': 'reg2'\n",
    "    }\n",
    "\n",
    "d = plotting.process_observation(obs_20190403_reg2)"
   ]
  },
  {
   "cell_type": "markdown",
   "metadata": {},
   "source": [
    "---"
   ]
  },
  {
   "attachments": {},
   "cell_type": "markdown",
   "metadata": {},
   "source": [
    "## Parallel downloads example + timing"
   ]
  },
  {
   "cell_type": "code",
   "execution_count": 1,
   "metadata": {},
   "outputs": [
    {
     "name": "stdout",
     "output_type": "stream",
     "text": [
      "start find aia urls\n",
      "done find aia urls:\n",
      "['https://sdo7.nascom.nasa.gov/cgi-bin/drms_export.cgi?series=aia__lev1;compress=rice;record=171_1333388447-1333388447', 'https://sdo7.nascom.nasa.gov/cgi-bin/drms_export.cgi?series=aia__lev1;compress=rice;record=171_1333388459-1333388459', 'https://sdo7.nascom.nasa.gov/cgi-bin/drms_export.cgi?series=aia__lev1;compress=rice;record=171_1333388471-1333388471', 'https://sdo7.nascom.nasa.gov/cgi-bin/drms_export.cgi?series=aia__lev1;compress=rice;record=171_1333388483-1333388483', 'https://sdo7.nascom.nasa.gov/cgi-bin/drms_export.cgi?series=aia__lev1;compress=rice;record=171_1333388495-1333388495', 'https://sdo7.nascom.nasa.gov/cgi-bin/drms_export.cgi?series=aia__lev1;compress=rice;record=171_1333388507-1333388507', 'https://sdo7.nascom.nasa.gov/cgi-bin/drms_export.cgi?series=aia__lev1;compress=rice;record=171_1333388519-1333388519', 'https://sdo7.nascom.nasa.gov/cgi-bin/drms_export.cgi?series=aia__lev1;compress=rice;record=171_1333388531-1333388531', 'https://sdo7.nascom.nasa.gov/cgi-bin/drms_export.cgi?series=aia__lev1;compress=rice;record=171_1333388543-1333388543', 'https://sdo7.nascom.nasa.gov/cgi-bin/drms_export.cgi?series=aia__lev1;compress=rice;record=171_1333388555-1333388555', 'https://sdo7.nascom.nasa.gov/cgi-bin/drms_export.cgi?series=aia__lev1;compress=rice;record=171_1333388567-1333388567', 'https://sdo7.nascom.nasa.gov/cgi-bin/drms_export.cgi?series=aia__lev1;compress=rice;record=171_1333388579-1333388579', 'https://sdo7.nascom.nasa.gov/cgi-bin/drms_export.cgi?series=aia__lev1;compress=rice;record=171_1333388591-1333388591', 'https://sdo7.nascom.nasa.gov/cgi-bin/drms_export.cgi?series=aia__lev1;compress=rice;record=171_1333388603-1333388603', 'https://sdo7.nascom.nasa.gov/cgi-bin/drms_export.cgi?series=aia__lev1;compress=rice;record=171_1333388615-1333388615', 'https://sdo7.nascom.nasa.gov/cgi-bin/drms_export.cgi?series=aia__lev1;compress=rice;record=171_1333388627-1333388627', 'https://sdo7.nascom.nasa.gov/cgi-bin/drms_export.cgi?series=aia__lev1;compress=rice;record=171_1333388639-1333388639', 'https://sdo7.nascom.nasa.gov/cgi-bin/drms_export.cgi?series=aia__lev1;compress=rice;record=171_1333388651-1333388651', 'https://sdo7.nascom.nasa.gov/cgi-bin/drms_export.cgi?series=aia__lev1;compress=rice;record=171_1333388663-1333388663', 'https://sdo7.nascom.nasa.gov/cgi-bin/drms_export.cgi?series=aia__lev1;compress=rice;record=171_1333388675-1333388675', 'https://sdo7.nascom.nasa.gov/cgi-bin/drms_export.cgi?series=aia__lev1;compress=rice;record=171_1333388687-1333388687', 'https://sdo7.nascom.nasa.gov/cgi-bin/drms_export.cgi?series=aia__lev1;compress=rice;record=171_1333388699-1333388699', 'https://sdo7.nascom.nasa.gov/cgi-bin/drms_export.cgi?series=aia__lev1;compress=rice;record=171_1333388711-1333388711', 'https://sdo7.nascom.nasa.gov/cgi-bin/drms_export.cgi?series=aia__lev1;compress=rice;record=171_1333388723-1333388723', 'https://sdo7.nascom.nasa.gov/cgi-bin/drms_export.cgi?series=aia__lev1;compress=rice;record=171_1333388735-1333388735', 'https://sdo7.nascom.nasa.gov/cgi-bin/drms_export.cgi?series=aia__lev1;compress=rice;record=171_1333388747-1333388747', 'https://sdo7.nascom.nasa.gov/cgi-bin/drms_export.cgi?series=aia__lev1;compress=rice;record=171_1333388759-1333388759', 'https://sdo7.nascom.nasa.gov/cgi-bin/drms_export.cgi?series=aia__lev1;compress=rice;record=171_1333388771-1333388771', 'https://sdo7.nascom.nasa.gov/cgi-bin/drms_export.cgi?series=aia__lev1;compress=rice;record=171_1333388783-1333388783', 'https://sdo7.nascom.nasa.gov/cgi-bin/drms_export.cgi?series=aia__lev1;compress=rice;record=171_1333388795-1333388795', 'https://sdo7.nascom.nasa.gov/cgi-bin/drms_export.cgi?series=aia__lev1;compress=rice;record=171_1333388807-1333388807', 'https://sdo7.nascom.nasa.gov/cgi-bin/drms_export.cgi?series=aia__lev1;compress=rice;record=171_1333388819-1333388819', 'https://sdo7.nascom.nasa.gov/cgi-bin/drms_export.cgi?series=aia__lev1;compress=rice;record=171_1333388831-1333388831', 'https://sdo7.nascom.nasa.gov/cgi-bin/drms_export.cgi?series=aia__lev1;compress=rice;record=171_1333388843-1333388843', 'https://sdo7.nascom.nasa.gov/cgi-bin/drms_export.cgi?series=aia__lev1;compress=rice;record=171_1333388855-1333388855', 'https://sdo7.nascom.nasa.gov/cgi-bin/drms_export.cgi?series=aia__lev1;compress=rice;record=171_1333388867-1333388867', 'https://sdo7.nascom.nasa.gov/cgi-bin/drms_export.cgi?series=aia__lev1;compress=rice;record=171_1333388879-1333388879', 'https://sdo7.nascom.nasa.gov/cgi-bin/drms_export.cgi?series=aia__lev1;compress=rice;record=171_1333388891-1333388891', 'https://sdo7.nascom.nasa.gov/cgi-bin/drms_export.cgi?series=aia__lev1;compress=rice;record=171_1333388903-1333388903', 'https://sdo7.nascom.nasa.gov/cgi-bin/drms_export.cgi?series=aia__lev1;compress=rice;record=171_1333388915-1333388915', 'https://sdo7.nascom.nasa.gov/cgi-bin/drms_export.cgi?series=aia__lev1;compress=rice;record=171_1333388927-1333388927', 'https://sdo7.nascom.nasa.gov/cgi-bin/drms_export.cgi?series=aia__lev1;compress=rice;record=171_1333388939-1333388939', 'https://sdo7.nascom.nasa.gov/cgi-bin/drms_export.cgi?series=aia__lev1;compress=rice;record=171_1333388951-1333388951', 'https://sdo7.nascom.nasa.gov/cgi-bin/drms_export.cgi?series=aia__lev1;compress=rice;record=171_1333388963-1333388963', 'https://sdo7.nascom.nasa.gov/cgi-bin/drms_export.cgi?series=aia__lev1;compress=rice;record=171_1333388975-1333388975', 'https://sdo7.nascom.nasa.gov/cgi-bin/drms_export.cgi?series=aia__lev1;compress=rice;record=171_1333388987-1333388987', 'https://sdo7.nascom.nasa.gov/cgi-bin/drms_export.cgi?series=aia__lev1;compress=rice;record=171_1333388999-1333388999', 'https://sdo7.nascom.nasa.gov/cgi-bin/drms_export.cgi?series=aia__lev1;compress=rice;record=171_1333389011-1333389011', 'https://sdo7.nascom.nasa.gov/cgi-bin/drms_export.cgi?series=aia__lev1;compress=rice;record=171_1333389023-1333389023', 'https://sdo7.nascom.nasa.gov/cgi-bin/drms_export.cgi?series=aia__lev1;compress=rice;record=171_1333389035-1333389035', 'https://sdo7.nascom.nasa.gov/cgi-bin/drms_export.cgi?series=aia__lev1;compress=rice;record=171_1333389047-1333389047', 'https://sdo7.nascom.nasa.gov/cgi-bin/drms_export.cgi?series=aia__lev1;compress=rice;record=171_1333389059-1333389059', 'https://sdo7.nascom.nasa.gov/cgi-bin/drms_export.cgi?series=aia__lev1;compress=rice;record=171_1333389071-1333389071', 'https://sdo7.nascom.nasa.gov/cgi-bin/drms_export.cgi?series=aia__lev1;compress=rice;record=171_1333389083-1333389083', 'https://sdo7.nascom.nasa.gov/cgi-bin/drms_export.cgi?series=aia__lev1;compress=rice;record=171_1333389095-1333389095', 'https://sdo7.nascom.nasa.gov/cgi-bin/drms_export.cgi?series=aia__lev1;compress=rice;record=171_1333389107-1333389107', 'https://sdo7.nascom.nasa.gov/cgi-bin/drms_export.cgi?series=aia__lev1;compress=rice;record=171_1333389119-1333389119', 'https://sdo7.nascom.nasa.gov/cgi-bin/drms_export.cgi?series=aia__lev1;compress=rice;record=171_1333389131-1333389131', 'https://sdo7.nascom.nasa.gov/cgi-bin/drms_export.cgi?series=aia__lev1;compress=rice;record=171_1333389143-1333389143', 'https://sdo7.nascom.nasa.gov/cgi-bin/drms_export.cgi?series=aia__lev1;compress=rice;record=171_1333389155-1333389155', 'https://sdo7.nascom.nasa.gov/cgi-bin/drms_export.cgi?series=aia__lev1;compress=rice;record=171_1333389167-1333389167', 'https://sdo7.nascom.nasa.gov/cgi-bin/drms_export.cgi?series=aia__lev1;compress=rice;record=171_1333389179-1333389179', 'https://sdo7.nascom.nasa.gov/cgi-bin/drms_export.cgi?series=aia__lev1;compress=rice;record=171_1333389191-1333389191', 'https://sdo7.nascom.nasa.gov/cgi-bin/drms_export.cgi?series=aia__lev1;compress=rice;record=171_1333389203-1333389203', 'https://sdo7.nascom.nasa.gov/cgi-bin/drms_export.cgi?series=aia__lev1;compress=rice;record=171_1333389215-1333389215', 'https://sdo7.nascom.nasa.gov/cgi-bin/drms_export.cgi?series=aia__lev1;compress=rice;record=171_1333389227-1333389227', 'https://sdo7.nascom.nasa.gov/cgi-bin/drms_export.cgi?series=aia__lev1;compress=rice;record=171_1333389239-1333389239', 'https://sdo7.nascom.nasa.gov/cgi-bin/drms_export.cgi?series=aia__lev1;compress=rice;record=171_1333389251-1333389251', 'https://sdo7.nascom.nasa.gov/cgi-bin/drms_export.cgi?series=aia__lev1;compress=rice;record=171_1333389263-1333389263', 'https://sdo7.nascom.nasa.gov/cgi-bin/drms_export.cgi?series=aia__lev1;compress=rice;record=171_1333389275-1333389275', 'https://sdo7.nascom.nasa.gov/cgi-bin/drms_export.cgi?series=aia__lev1;compress=rice;record=171_1333389287-1333389287', 'https://sdo7.nascom.nasa.gov/cgi-bin/drms_export.cgi?series=aia__lev1;compress=rice;record=171_1333389299-1333389299', 'https://sdo7.nascom.nasa.gov/cgi-bin/drms_export.cgi?series=aia__lev1;compress=rice;record=171_1333389311-1333389311', 'https://sdo7.nascom.nasa.gov/cgi-bin/drms_export.cgi?series=aia__lev1;compress=rice;record=171_1333389323-1333389323', 'https://sdo7.nascom.nasa.gov/cgi-bin/drms_export.cgi?series=aia__lev1;compress=rice;record=171_1333389335-1333389335']\n",
      "start try downloads\n",
      "wait time is 10.0 s\n",
      "gotcha: https://sdo7.nascom.nasa.gov/cgi-bin/drms_export.cgi?series=aia__lev1;compress=rice;record=171_1333388447-1333388447\n",
      "wait time is 10.0 s\n",
      "gotcha: https://sdo7.nascom.nasa.gov/cgi-bin/drms_export.cgi?series=aia__lev1;compress=rice;record=171_1333388627-1333388627\n",
      "wait time is 10.0 s\n",
      "gotcha: https://sdo7.nascom.nasa.gov/cgi-bin/drms_export.cgi?series=aia__lev1;compress=rice;record=171_1333388807-1333388807\n",
      "wait time is 10.0 s\n",
      "gotcha: https://sdo7.nascom.nasa.gov/cgi-bin/drms_export.cgi?series=aia__lev1;compress=rice;record=171_1333388987-1333388987\n",
      "wait time is 10.0 s\n",
      "gotcha: https://sdo7.nascom.nasa.gov/cgi-bin/drms_export.cgi?series=aia__lev1;compress=rice;record=171_1333389167-1333389167\n",
      "wait time is 10.0 s\n",
      "gotcha: https://sdo7.nascom.nasa.gov/cgi-bin/drms_export.cgi?series=aia__lev1;compress=rice;record=171_1333389179-1333389179\n",
      "wait time is 10.0 s\n",
      "gotcha: https://sdo7.nascom.nasa.gov/cgi-bin/drms_export.cgi?series=aia__lev1;compress=rice;record=171_1333388459-1333388459\n",
      "wait time is 10.0 s\n",
      "gotcha: https://sdo7.nascom.nasa.gov/cgi-bin/drms_export.cgi?series=aia__lev1;compress=rice;record=171_1333388639-1333388639\n",
      "wait time is 10.0 s\n",
      "gotcha: https://sdo7.nascom.nasa.gov/cgi-bin/drms_export.cgi?series=aia__lev1;compress=rice;record=171_1333389191-1333389191\n",
      "wait time is 10.0 s\n",
      "gotcha: https://sdo7.nascom.nasa.gov/cgi-bin/drms_export.cgi?series=aia__lev1;compress=rice;record=171_1333388651-1333388651\n",
      "wait time is 10.0 s\n",
      "gotcha: https://sdo7.nascom.nasa.gov/cgi-bin/drms_export.cgi?series=aia__lev1;compress=rice;record=171_1333388999-1333388999\n",
      "wait time is 10.0 s\n",
      "gotcha: https://sdo7.nascom.nasa.gov/cgi-bin/drms_export.cgi?series=aia__lev1;compress=rice;record=171_1333388663-1333388663\n",
      "wait time is 10.0 s\n",
      "gotcha: https://sdo7.nascom.nasa.gov/cgi-bin/drms_export.cgi?series=aia__lev1;compress=rice;record=171_1333389011-1333389011\n",
      "wait time is 10.0 s\n",
      "gotcha: https://sdo7.nascom.nasa.gov/cgi-bin/drms_export.cgi?series=aia__lev1;compress=rice;record=171_1333388675-1333388675\n",
      "wait time is 10.0 s\n",
      "gotcha: https://sdo7.nascom.nasa.gov/cgi-bin/drms_export.cgi?series=aia__lev1;compress=rice;record=171_1333389023-1333389023\n",
      "wait time is 10.0 s\n",
      "gotcha: https://sdo7.nascom.nasa.gov/cgi-bin/drms_export.cgi?series=aia__lev1;compress=rice;record=171_1333388471-1333388471\n",
      "wait time is 10.0 s\n",
      "gotcha: https://sdo7.nascom.nasa.gov/cgi-bin/drms_export.cgi?series=aia__lev1;compress=rice;record=171_1333388687-1333388687\n",
      "wait time is 10.0 s\n",
      "gotcha: https://sdo7.nascom.nasa.gov/cgi-bin/drms_export.cgi?series=aia__lev1;compress=rice;record=171_1333388483-1333388483\n",
      "wait time is 10.0 s\n",
      "gotcha: https://sdo7.nascom.nasa.gov/cgi-bin/drms_export.cgi?series=aia__lev1;compress=rice;record=171_1333388699-1333388699\n",
      "wait time is 10.0 s\n",
      "gotcha: https://sdo7.nascom.nasa.gov/cgi-bin/drms_export.cgi?series=aia__lev1;compress=rice;record=171_1333388495-1333388495\n",
      "wait time is 10.0 s\n",
      "gotcha: https://sdo7.nascom.nasa.gov/cgi-bin/drms_export.cgi?series=aia__lev1;compress=rice;record=171_1333388711-1333388711\n",
      "wait time is 10.0 s\n",
      "gotcha: https://sdo7.nascom.nasa.gov/cgi-bin/drms_export.cgi?series=aia__lev1;compress=rice;record=171_1333388507-1333388507\n",
      "wait time is 10.0 s\n",
      "gotcha: https://sdo7.nascom.nasa.gov/cgi-bin/drms_export.cgi?series=aia__lev1;compress=rice;record=171_1333388819-1333388819\n",
      "wait time is 10.0 s\n",
      "gotcha: https://sdo7.nascom.nasa.gov/cgi-bin/drms_export.cgi?series=aia__lev1;compress=rice;record=171_1333388723-1333388723\n",
      "wait time is 10.0 s\n",
      "gotcha: https://sdo7.nascom.nasa.gov/cgi-bin/drms_export.cgi?series=aia__lev1;compress=rice;record=171_1333388519-1333388519\n",
      "wait time is 10.0 s\n",
      "gotcha: https://sdo7.nascom.nasa.gov/cgi-bin/drms_export.cgi?series=aia__lev1;compress=rice;record=171_1333388735-1333388735\n",
      "wait time is 10.0 s\n",
      "gotcha: https://sdo7.nascom.nasa.gov/cgi-bin/drms_export.cgi?series=aia__lev1;compress=rice;record=171_1333389203-1333389203\n",
      "wait time is 10.0 s\n",
      "gotcha: https://sdo7.nascom.nasa.gov/cgi-bin/drms_export.cgi?series=aia__lev1;compress=rice;record=171_1333388747-1333388747\n",
      "wait time is 10.0 s\n",
      "gotcha: https://sdo7.nascom.nasa.gov/cgi-bin/drms_export.cgi?series=aia__lev1;compress=rice;record=171_1333388831-1333388831\n",
      "wait time is 10.0 s\n",
      "gotcha: https://sdo7.nascom.nasa.gov/cgi-bin/drms_export.cgi?series=aia__lev1;compress=rice;record=171_1333388531-1333388531\n",
      "wait time is 10.0 s\n",
      "gotcha: https://sdo7.nascom.nasa.gov/cgi-bin/drms_export.cgi?series=aia__lev1;compress=rice;record=171_1333388759-1333388759\n",
      "wait time is 10.0 s\n",
      "gotcha: https://sdo7.nascom.nasa.gov/cgi-bin/drms_export.cgi?series=aia__lev1;compress=rice;record=171_1333388543-1333388543\n",
      "wait time is 10.0 s\n",
      "gotcha: https://sdo7.nascom.nasa.gov/cgi-bin/drms_export.cgi?series=aia__lev1;compress=rice;record=171_1333388771-1333388771\n",
      "wait time is 10.0 s\n",
      "gotcha: https://sdo7.nascom.nasa.gov/cgi-bin/drms_export.cgi?series=aia__lev1;compress=rice;record=171_1333388555-1333388555\n",
      "wait time is 10.0 s\n",
      "gotcha: https://sdo7.nascom.nasa.gov/cgi-bin/drms_export.cgi?series=aia__lev1;compress=rice;record=171_1333388783-1333388783\n",
      "wait time is 10.0 s\n",
      "gotcha: https://sdo7.nascom.nasa.gov/cgi-bin/drms_export.cgi?series=aia__lev1;compress=rice;record=171_1333388567-1333388567\n",
      "wait time is 10.0 s\n",
      "gotcha: https://sdo7.nascom.nasa.gov/cgi-bin/drms_export.cgi?series=aia__lev1;compress=rice;record=171_1333389035-1333389035\n",
      "wait time is 10.0 s\n",
      "gotcha: https://sdo7.nascom.nasa.gov/cgi-bin/drms_export.cgi?series=aia__lev1;compress=rice;record=171_1333388795-1333388795\n",
      "wait time is 10.0 s\n",
      "gotcha: https://sdo7.nascom.nasa.gov/cgi-bin/drms_export.cgi?series=aia__lev1;compress=rice;record=171_1333388579-1333388579\n",
      "wait time is 10.0 s\n",
      "gotcha: https://sdo7.nascom.nasa.gov/cgi-bin/drms_export.cgi?series=aia__lev1;compress=rice;record=171_1333389047-1333389047\n",
      "wait time is 10.0 s\n",
      "gotcha: https://sdo7.nascom.nasa.gov/cgi-bin/drms_export.cgi?series=aia__lev1;compress=rice;record=171_1333388591-1333388591\n",
      "wait time is 10.0 s\n",
      "gotcha: https://sdo7.nascom.nasa.gov/cgi-bin/drms_export.cgi?series=aia__lev1;compress=rice;record=171_1333389059-1333389059\n",
      "wait time is 10.0 s\n",
      "gotcha: https://sdo7.nascom.nasa.gov/cgi-bin/drms_export.cgi?series=aia__lev1;compress=rice;record=171_1333388603-1333388603\n",
      "wait time is 10.0 s\n",
      "gotcha: https://sdo7.nascom.nasa.gov/cgi-bin/drms_export.cgi?series=aia__lev1;compress=rice;record=171_1333389071-1333389071\n",
      "wait time is 10.0 s\n",
      "gotcha: https://sdo7.nascom.nasa.gov/cgi-bin/drms_export.cgi?series=aia__lev1;compress=rice;record=171_1333388615-1333388615\n",
      "wait time is 10.0 s\n",
      "gotcha: https://sdo7.nascom.nasa.gov/cgi-bin/drms_export.cgi?series=aia__lev1;compress=rice;record=171_1333389215-1333389215\n",
      "wait time is 10.0 s\n",
      "gotcha: https://sdo7.nascom.nasa.gov/cgi-bin/drms_export.cgi?series=aia__lev1;compress=rice;record=171_1333388843-1333388843\n",
      "wait time is 10.0 s\n",
      "gotcha: https://sdo7.nascom.nasa.gov/cgi-bin/drms_export.cgi?series=aia__lev1;compress=rice;record=171_1333389227-1333389227\n",
      "wait time is 10.0 s\n",
      "gotcha: https://sdo7.nascom.nasa.gov/cgi-bin/drms_export.cgi?series=aia__lev1;compress=rice;record=171_1333388855-1333388855\n",
      "wait time is 10.0 s\n",
      "gotcha: https://sdo7.nascom.nasa.gov/cgi-bin/drms_export.cgi?series=aia__lev1;compress=rice;record=171_1333389239-1333389239\n",
      "wait time is 10.0 s\n",
      "gotcha: https://sdo7.nascom.nasa.gov/cgi-bin/drms_export.cgi?series=aia__lev1;compress=rice;record=171_1333388867-1333388867\n",
      "wait time is 10.0 s\n",
      "gotcha: https://sdo7.nascom.nasa.gov/cgi-bin/drms_export.cgi?series=aia__lev1;compress=rice;record=171_1333389251-1333389251\n",
      "wait time is 10.0 s\n",
      "gotcha: https://sdo7.nascom.nasa.gov/cgi-bin/drms_export.cgi?series=aia__lev1;compress=rice;record=171_1333389083-1333389083\n",
      "wait time is 10.0 s\n",
      "gotcha: https://sdo7.nascom.nasa.gov/cgi-bin/drms_export.cgi?series=aia__lev1;compress=rice;record=171_1333389263-1333389263\n",
      "wait time is 10.0 s\n",
      "gotcha: https://sdo7.nascom.nasa.gov/cgi-bin/drms_export.cgi?series=aia__lev1;compress=rice;record=171_1333389095-1333389095\n",
      "wait time is 10.0 s\n",
      "gotcha: https://sdo7.nascom.nasa.gov/cgi-bin/drms_export.cgi?series=aia__lev1;compress=rice;record=171_1333389275-1333389275\n",
      "wait time is 10.0 s\n",
      "gotcha: https://sdo7.nascom.nasa.gov/cgi-bin/drms_export.cgi?series=aia__lev1;compress=rice;record=171_1333389107-1333389107\n",
      "wait time is 10.0 s\n",
      "gotcha: https://sdo7.nascom.nasa.gov/cgi-bin/drms_export.cgi?series=aia__lev1;compress=rice;record=171_1333389287-1333389287\n",
      "wait time is 10.0 s\n",
      "gotcha: https://sdo7.nascom.nasa.gov/cgi-bin/drms_export.cgi?series=aia__lev1;compress=rice;record=171_1333389119-1333389119\n",
      "wait time is 10.0 s\n",
      "gotcha: https://sdo7.nascom.nasa.gov/cgi-bin/drms_export.cgi?series=aia__lev1;compress=rice;record=171_1333388879-1333388879\n",
      "wait time is 10.0 s\n",
      "gotcha: https://sdo7.nascom.nasa.gov/cgi-bin/drms_export.cgi?series=aia__lev1;compress=rice;record=171_1333389299-1333389299\n",
      "wait time is 10.0 s\n",
      "gotcha: https://sdo7.nascom.nasa.gov/cgi-bin/drms_export.cgi?series=aia__lev1;compress=rice;record=171_1333389131-1333389131\n",
      "wait time is 10.0 s\n",
      "gotcha: https://sdo7.nascom.nasa.gov/cgi-bin/drms_export.cgi?series=aia__lev1;compress=rice;record=171_1333389311-1333389311\n",
      "wait time is 10.0 s\n",
      "gotcha: https://sdo7.nascom.nasa.gov/cgi-bin/drms_export.cgi?series=aia__lev1;compress=rice;record=171_1333389143-1333389143\n",
      "wait time is 10.0 s\n",
      "gotcha: https://sdo7.nascom.nasa.gov/cgi-bin/drms_export.cgi?series=aia__lev1;compress=rice;record=171_1333389323-1333389323\n",
      "wait time is 10.0 s\n",
      "gotcha: https://sdo7.nascom.nasa.gov/cgi-bin/drms_export.cgi?series=aia__lev1;compress=rice;record=171_1333389155-1333389155\n",
      "wait time is 10.0 s\n",
      "gotcha: https://sdo7.nascom.nasa.gov/cgi-bin/drms_export.cgi?series=aia__lev1;compress=rice;record=171_1333389335-1333389335\n",
      "wait time is 10.0 s\n",
      "gotcha: https://sdo7.nascom.nasa.gov/cgi-bin/drms_export.cgi?series=aia__lev1;compress=rice;record=171_1333388891-1333388891\n",
      "wait time is 10.0 s\n",
      "gotcha: https://sdo7.nascom.nasa.gov/cgi-bin/drms_export.cgi?series=aia__lev1;compress=rice;record=171_1333388903-1333388903\n",
      "wait time is 10.0 s\n",
      "gotcha: https://sdo7.nascom.nasa.gov/cgi-bin/drms_export.cgi?series=aia__lev1;compress=rice;record=171_1333388915-1333388915\n",
      "wait time is 10.0 s\n",
      "gotcha: https://sdo7.nascom.nasa.gov/cgi-bin/drms_export.cgi?series=aia__lev1;compress=rice;record=171_1333388927-1333388927\n",
      "wait time is 10.0 s\n",
      "gotcha: https://sdo7.nascom.nasa.gov/cgi-bin/drms_export.cgi?series=aia__lev1;compress=rice;record=171_1333388939-1333388939\n",
      "wait time is 10.0 s\n",
      "gotcha: https://sdo7.nascom.nasa.gov/cgi-bin/drms_export.cgi?series=aia__lev1;compress=rice;record=171_1333388951-1333388951\n",
      "wait time is 10.0 s\n",
      "gotcha: https://sdo7.nascom.nasa.gov/cgi-bin/drms_export.cgi?series=aia__lev1;compress=rice;record=171_1333388963-1333388963\n",
      "wait time is 10.0 s\n",
      "gotcha: https://sdo7.nascom.nasa.gov/cgi-bin/drms_export.cgi?series=aia__lev1;compress=rice;record=171_1333388975-1333388975\n",
      "done try downloads\n",
      "this took 0:02:36.618016\n"
     ]
    }
   ],
   "source": [
    "import astropy.units as u\n",
    "import astropy.time\n",
    "from aia_lightcurves import file_io\n",
    "import datetime\n",
    "\n",
    "start = astropy.time.Time('2019-04-03T17:40:00.0')\n",
    "end = astropy.time.Time('2019-04-03T17:55:00.0')\n",
    "wav = 171 << u.Angstrom\n",
    "dbg = True\n",
    "\n",
    "run_start = datetime.datetime.now()\n",
    "file_io.download_fits_parallel(\n",
    "    start_time=start,\n",
    "    end_time=end,\n",
    "    wavelengths=[wav],\n",
    "    print_debug_messages=dbg\n",
    ")\n",
    "run_end = datetime.datetime.now()\n",
    "print(f'this took {run_end - run_start}')"
   ]
  },
  {
   "attachments": {},
   "cell_type": "markdown",
   "metadata": {},
   "source": [
    "---"
   ]
  }
 ],
 "metadata": {
  "kernelspec": {
   "display_name": "Python 3",
   "language": "python",
   "name": "python3"
  },
  "language_info": {
   "codemirror_mode": {
    "name": "ipython",
    "version": 3
   },
   "file_extension": ".py",
   "mimetype": "text/x-python",
   "name": "python",
   "nbconvert_exporter": "python",
   "pygments_lexer": "ipython3",
   "version": "3.11.0"
  },
  "orig_nbformat": 4,
  "vscode": {
   "interpreter": {
    "hash": "937ddabde3f33fb767bd1440b1af10efa3f80b8967638372061e842d1d9867fc"
   }
  }
 },
 "nbformat": 4,
 "nbformat_minor": 2
}
