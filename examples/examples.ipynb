{
 "cells": [
  {
   "attachments": {},
   "cell_type": "markdown",
   "metadata": {},
   "source": [
    "## This notebook showcases some examples of processed AIA data using the built tools."
   ]
  },
  {
   "cell_type": "code",
   "execution_count": null,
   "metadata": {},
   "outputs": [],
   "source": [
    "import aia_lightcurves.plotting as plotting"
   ]
  },
  {
   "cell_type": "markdown",
   "metadata": {},
   "source": [
    "---"
   ]
  },
  {
   "cell_type": "markdown",
   "metadata": {},
   "source": [
    "## Test observation"
   ]
  },
  {
   "cell_type": "code",
   "execution_count": null,
   "metadata": {},
   "outputs": [],
   "source": [
    "import test\n",
    "\n",
    "d = test.test_observation()"
   ]
  },
  {
   "cell_type": "markdown",
   "metadata": {},
   "source": [
    "---"
   ]
  },
  {
   "cell_type": "markdown",
   "metadata": {},
   "source": [
    "## 2019-04-03"
   ]
  },
  {
   "cell_type": "markdown",
   "metadata": {},
   "source": [
    "### Region 1"
   ]
  },
  {
   "cell_type": "code",
   "execution_count": null,
   "metadata": {},
   "outputs": [],
   "source": [
    "# Corresponds to periodicity region 2.\n",
    "obs_20190403_reg1 = {\n",
    "        'start_time': '2019-04-03T17:40:00.0', # The observation start time\n",
    "        'end_time': '2019-04-03T17:55:00.0',   # The observation end time\n",
    "        'map_time': '2019-04-03T18:00:33.0',   # The time used for plotting the maps\n",
    "        'wavelengths': [171],                  # The wavelengths to examine\n",
    "        'center': (-220, 330),                 # The center of the region of interest (arcseconds)\n",
    "        'radius': 50,                          # The radius of the region of interest (arcseconds)\n",
    "        'N': 21,                               # The boxcar width\n",
    "        'name': 'reg1'                         # The region name to delineate files\n",
    "    }\n",
    "\n",
    "d = plotting.process_observation(obs_20190403_reg1)"
   ]
  },
  {
   "cell_type": "markdown",
   "metadata": {},
   "source": [
    "### Region 2"
   ]
  },
  {
   "cell_type": "code",
   "execution_count": null,
   "metadata": {},
   "outputs": [],
   "source": [
    "obs_20190403_reg2 = {\n",
    "        'start_time': '2019-04-03T17:40:00.0',\n",
    "        'end_time': '2019-04-03T17:55:00.0',\n",
    "        'map_time': '2019-04-03T18:00:33.0',\n",
    "        'wavelengths': [211],\n",
    "        'center': (-30, 330),\n",
    "        'radius': 50,\n",
    "        'N': 21,\n",
    "        'name': 'reg2'\n",
    "    }\n",
    "\n",
    "d = plotting.process_observation(obs_20190403_reg2)"
   ]
  },
  {
   "cell_type": "markdown",
   "metadata": {},
   "source": [
    "---"
   ]
  },
  {
   "attachments": {},
   "cell_type": "markdown",
   "metadata": {},
   "source": [
    "## Parallel downloads example + timing (with debug printing)"
   ]
  },
  {
   "cell_type": "code",
   "execution_count": null,
   "metadata": {},
   "outputs": [],
   "source": [
    "import astropy.units as u\n",
    "import astropy.time\n",
    "from aia_lightcurves import file_io\n",
    "import datetime\n",
    "import sys\n",
    "\n",
    "logfile = 'parallel_example.log'\n",
    "\n",
    "orig_stdout = sys.stdout\n",
    "\n",
    "print('logging example output to', logfile)\n",
    "print(f'you can view it with `tail -f {logfile}`')\n",
    "with open (logfile, 'w') as f:\n",
    "    sys.stdout = f\n",
    "    start = astropy.time.Time('2019-04-03T17:40:00.0')\n",
    "    end = astropy.time.Time('2019-04-03T17:55:00.0')\n",
    "    wav = 171 << u.Angstrom\n",
    "    dbg = True\n",
    "\n",
    "    run_start = datetime.datetime.now()\n",
    "    downloaded = file_io.download_fits_parallel(\n",
    "        start_time=start,\n",
    "        end_time=end,\n",
    "        wavelengths=[wav],\n",
    "        print_debug_messages=dbg\n",
    "    )\n",
    "    run_end = datetime.datetime.now()\n",
    "    print(f'this took {run_end - run_start}')\n",
    "\n",
    "    print()\n",
    "    if all(d.success for d in downloaded):\n",
    "        print('all downloads successful')\n",
    "    else:\n",
    "        print('failed:')\n",
    "        for d in downloaded:\n",
    "            if not d.success: print(d)\n",
    "\n",
    "sys.stdout = orig_stdout"
   ]
  },
  {
   "attachments": {},
   "cell_type": "markdown",
   "metadata": {},
   "source": [
    "---"
   ]
  }
 ],
 "metadata": {
  "kernelspec": {
   "display_name": "Python 3",
   "language": "python",
   "name": "python3"
  },
  "language_info": {
   "codemirror_mode": {
    "name": "ipython",
    "version": 3
   },
   "file_extension": ".py",
   "mimetype": "text/x-python",
   "name": "python",
   "nbconvert_exporter": "python",
   "pygments_lexer": "ipython3",
   "version": "3.11.0"
  },
  "orig_nbformat": 4,
  "vscode": {
   "interpreter": {
    "hash": "937ddabde3f33fb767bd1440b1af10efa3f80b8967638372061e842d1d9867fc"
   }
  }
 },
 "nbformat": 4,
 "nbformat_minor": 2
}
