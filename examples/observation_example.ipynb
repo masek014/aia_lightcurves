{
 "cells": [
  {
   "attachments": {},
   "cell_type": "markdown",
   "metadata": {},
   "source": [
    "## The `Observation` class\n",
    "\n",
    "This notebook showcases the use of the `Observation` class to process AIA data using the built tools."
   ]
  },
  {
   "attachments": {},
   "cell_type": "markdown",
   "metadata": {},
   "source": [
    "Be sure that the `aia_lightcurves` package is either seen by the `PYTHONPATH` system variable or in the local directory containing this notebook."
   ]
  },
  {
   "cell_type": "code",
   "execution_count": null,
   "metadata": {},
   "outputs": [],
   "source": [
    "from aia_lightcurves.Observation import Observation, regions, u"
   ]
  },
  {
   "cell_type": "markdown",
   "metadata": {},
   "source": [
    "---"
   ]
  },
  {
   "attachments": {},
   "cell_type": "markdown",
   "metadata": {},
   "source": [
    "## 2022-06-03"
   ]
  },
  {
   "cell_type": "code",
   "execution_count": null,
   "metadata": {},
   "outputs": [],
   "source": [
    "obs = Observation(\n",
    "    '2022-06-03 21:50:00.0',\n",
    "    '2022-06-03 22:20:00.0',\n",
    "    (171, 211) * u.Angstrom,\n",
    "    boxcar_width = 21\n",
    ")\n",
    "\n",
    "obs.set_region(\n",
    "    regions.CircleSkyRegion,\n",
    "    center = (350, -260) * u.arcsec,\n",
    "    radius = 120 * u.arcsec,\n",
    "    name = 'region1'\n",
    ")\n",
    "\n",
    "obs.preprocess()\n",
    "obs.process()"
   ]
  },
  {
   "attachments": {},
   "cell_type": "markdown",
   "metadata": {},
   "source": [
    "The outputs consist of the downloaded data in FITS format, lightcurves in CSV format, and images in PNG format.\n",
    "The default behavior is to create a `data` folder in the same directory the code is executed, but a custom directory can be specified by setting the `out_dir` parameter for the `Observation` object."
   ]
  },
  {
   "attachments": {},
   "cell_type": "markdown",
   "metadata": {},
   "source": [
    "Further, the output locations for each component (FITS, images, lightcurves) can be customized by setting the appropriate `file_io` variable:\n",
    "- file_io.fits_dir_format\n",
    "- file_io.lightcurves_dir_format\n",
    "- file_io.images_dir_format\n",
    "\n",
    "This must be done prior to the `Observation.preprocess()` call."
   ]
  },
  {
   "cell_type": "markdown",
   "metadata": {},
   "source": [
    "---"
   ]
  },
  {
   "attachments": {},
   "cell_type": "markdown",
   "metadata": {},
   "source": [
    "## Different regions"
   ]
  },
  {
   "attachments": {},
   "cell_type": "markdown",
   "metadata": {},
   "source": [
    "You can input any SkyRegion that is included in the `regions` package.\n",
    "Above, we used a CircleSkyRegion, and here are some examples of how to use a RectangleSkyRegion and a CircleAnnulusSkyRegion.\n",
    "See [this page](https://astropy-regions.readthedocs.io/en/stable/shapes.html) for a list of available regions."
   ]
  },
  {
   "cell_type": "code",
   "execution_count": null,
   "metadata": {},
   "outputs": [],
   "source": [
    "obs.set_region(\n",
    "    regions.RectangleSkyRegion,\n",
    "    center = (350, -260) * u.arcsec,\n",
    "    width  = 200 * u.arcsec,\n",
    "    height = 500 * u.arcsec,\n",
    "    angle  = 60 * u.deg\n",
    ")\n",
    "\n",
    "obs.set_region(\n",
    "    regions.CircleAnnulusSkyRegion,\n",
    "    center = (350, -260) * u.arcsec,\n",
    "    inner_radius = 100 * u.arcsec,\n",
    "    outer_radius = 300 * u.arcsec\n",
    ")"
   ]
  },
  {
   "attachments": {},
   "cell_type": "markdown",
   "metadata": {},
   "source": [
    "---"
   ]
  }
 ],
 "metadata": {
  "kernelspec": {
   "display_name": "Python 3",
   "language": "python",
   "name": "python3"
  },
  "language_info": {
   "codemirror_mode": {
    "name": "ipython",
    "version": 3
   },
   "file_extension": ".py",
   "mimetype": "text/x-python",
   "name": "python",
   "nbconvert_exporter": "python",
   "pygments_lexer": "ipython3",
   "version": "3.11.1"
  },
  "orig_nbformat": 4,
  "vscode": {
   "interpreter": {
    "hash": "ead1b95f633dc9c51826328e1846203f51a198c6fb5f2884a80417ba131d4e82"
   }
  }
 },
 "nbformat": 4,
 "nbformat_minor": 2
}
